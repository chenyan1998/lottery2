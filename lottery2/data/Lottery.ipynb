{
 "cells": [
  {
   "cell_type": "code",
   "execution_count": 1,
   "id": "a9ff24aa",
   "metadata": {},
   "outputs": [],
   "source": [
    "import numpy as np\n",
    "import pandas as pd\n",
    "import random"
   ]
  },
  {
   "cell_type": "code",
   "execution_count": 2,
   "id": "ba43ba70",
   "metadata": {},
   "outputs": [],
   "source": [
    "def fun_ticketGeneration(df,CandidateSet,expectedNumberOfTickets): # expectedNumberOfTickets is input by users\n",
    "    df1=df[df['NumberOfSolution']==CandidateSet[expectedNumberOfTickets-1]]\n",
    "    df1=df1.reset_index(drop=True)\n",
    "    random_numbers = random.sample(range(1, 50), 49)\n",
    "    S1=[]\n",
    "    for i in range(len(df1)):\n",
    "        temp=np.zeros(6)\n",
    "        temp[0]=(int)(random_numbers[df1['S1'][i]-1])\n",
    "        temp[1]=random_numbers[df1['S2'][i]-1]\n",
    "        temp[2]=random_numbers[df1['S3'][i]-1]\n",
    "        temp[3]=random_numbers[df1['S4'][i]-1]\n",
    "        temp[4]=random_numbers[df1['S5'][i]-1]\n",
    "        temp[5]=random_numbers[df1['S6'][i]-1]\n",
    "        S1.append(temp)\n",
    "    re=pd.DataFrame(S1)\n",
    "    return re"
   ]
  },
  {
   "cell_type": "code",
   "execution_count": 3,
   "id": "6207d650",
   "metadata": {},
   "outputs": [],
   "source": [
    "df=pd.read_excel('Lottery.xlsx')"
   ]
  },
  {
   "cell_type": "code",
   "execution_count": 5,
   "id": "a94a442f",
   "metadata": {},
   "outputs": [
    {
     "name": "stdout",
     "output_type": "stream",
     "text": [
      "[ 1  2  3  4  5  6  7  8  9 10 11 12 13 14 15 16 17 18 19 20 21 22 23 24\n",
      " 25 26 27 28 29 30 31 32 33 34 35 36 37 38 39 40 41 42 43 44 45 46 47 48\n",
      " 49 50 51 52 53 54 55 56 57 58 59 60 61 62 63 64 65 66 67 68 69 70]\n"
     ]
    }
   ],
   "source": [
    "CandidateSet=df['NumberOfSolution'].unique()\n",
    "print(CandidateSet)"
   ]
  },
  {
   "cell_type": "code",
   "execution_count": 7,
   "id": "3ba56173",
   "metadata": {},
   "outputs": [
    {
     "data": {
      "text/html": [
       "<div>\n",
       "<style scoped>\n",
       "    .dataframe tbody tr th:only-of-type {\n",
       "        vertical-align: middle;\n",
       "    }\n",
       "\n",
       "    .dataframe tbody tr th {\n",
       "        vertical-align: top;\n",
       "    }\n",
       "\n",
       "    .dataframe thead th {\n",
       "        text-align: right;\n",
       "    }\n",
       "</style>\n",
       "<table border=\"1\" class=\"dataframe\">\n",
       "  <thead>\n",
       "    <tr style=\"text-align: right;\">\n",
       "      <th></th>\n",
       "      <th>0</th>\n",
       "      <th>1</th>\n",
       "      <th>2</th>\n",
       "      <th>3</th>\n",
       "      <th>4</th>\n",
       "      <th>5</th>\n",
       "    </tr>\n",
       "  </thead>\n",
       "  <tbody>\n",
       "    <tr>\n",
       "      <th>0</th>\n",
       "      <td>37.0</td>\n",
       "      <td>20.0</td>\n",
       "      <td>18.0</td>\n",
       "      <td>12.0</td>\n",
       "      <td>21.0</td>\n",
       "      <td>2.0</td>\n",
       "    </tr>\n",
       "    <tr>\n",
       "      <th>1</th>\n",
       "      <td>45.0</td>\n",
       "      <td>16.0</td>\n",
       "      <td>40.0</td>\n",
       "      <td>29.0</td>\n",
       "      <td>38.0</td>\n",
       "      <td>26.0</td>\n",
       "    </tr>\n",
       "    <tr>\n",
       "      <th>2</th>\n",
       "      <td>28.0</td>\n",
       "      <td>9.0</td>\n",
       "      <td>25.0</td>\n",
       "      <td>32.0</td>\n",
       "      <td>13.0</td>\n",
       "      <td>43.0</td>\n",
       "    </tr>\n",
       "    <tr>\n",
       "      <th>3</th>\n",
       "      <td>10.0</td>\n",
       "      <td>30.0</td>\n",
       "      <td>41.0</td>\n",
       "      <td>35.0</td>\n",
       "      <td>34.0</td>\n",
       "      <td>17.0</td>\n",
       "    </tr>\n",
       "    <tr>\n",
       "      <th>4</th>\n",
       "      <td>24.0</td>\n",
       "      <td>23.0</td>\n",
       "      <td>6.0</td>\n",
       "      <td>33.0</td>\n",
       "      <td>49.0</td>\n",
       "      <td>42.0</td>\n",
       "    </tr>\n",
       "    <tr>\n",
       "      <th>5</th>\n",
       "      <td>44.0</td>\n",
       "      <td>46.0</td>\n",
       "      <td>3.0</td>\n",
       "      <td>39.0</td>\n",
       "      <td>14.0</td>\n",
       "      <td>4.0</td>\n",
       "    </tr>\n",
       "    <tr>\n",
       "      <th>6</th>\n",
       "      <td>15.0</td>\n",
       "      <td>7.0</td>\n",
       "      <td>22.0</td>\n",
       "      <td>47.0</td>\n",
       "      <td>36.0</td>\n",
       "      <td>11.0</td>\n",
       "    </tr>\n",
       "  </tbody>\n",
       "</table>\n",
       "</div>"
      ],
      "text/plain": [
       "      0     1     2     3     4     5\n",
       "0  37.0  20.0  18.0  12.0  21.0   2.0\n",
       "1  45.0  16.0  40.0  29.0  38.0  26.0\n",
       "2  28.0   9.0  25.0  32.0  13.0  43.0\n",
       "3  10.0  30.0  41.0  35.0  34.0  17.0\n",
       "4  24.0  23.0   6.0  33.0  49.0  42.0\n",
       "5  44.0  46.0   3.0  39.0  14.0   4.0\n",
       "6  15.0   7.0  22.0  47.0  36.0  11.0"
      ]
     },
     "execution_count": 7,
     "metadata": {},
     "output_type": "execute_result"
    }
   ],
   "source": [
    "expectedNumberOfTickets=7  #1-70\n",
    "re22=fun_ticketGeneration(df,CandidateSet,expectedNumberOfTickets)\n",
    "re22"
   ]
  },
  {
   "cell_type": "code",
   "execution_count": null,
   "id": "1f72010f",
   "metadata": {},
   "outputs": [],
   "source": []
  },
  {
   "cell_type": "code",
   "execution_count": null,
   "id": "438a2226",
   "metadata": {},
   "outputs": [],
   "source": []
  }
 ],
 "metadata": {
  "kernelspec": {
   "display_name": "Python 3",
   "language": "python",
   "name": "python3"
  },
  "language_info": {
   "codemirror_mode": {
    "name": "ipython",
    "version": 3
   },
   "file_extension": ".py",
   "mimetype": "text/x-python",
   "name": "python",
   "nbconvert_exporter": "python",
   "pygments_lexer": "ipython3",
   "version": "3.8.10"
  }
 },
 "nbformat": 4,
 "nbformat_minor": 5
}
